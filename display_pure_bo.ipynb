{
 "cells": [
  {
   "cell_type": "code",
   "execution_count": 1,
   "metadata": {},
   "outputs": [],
   "source": [
    "from maliboo import BayesianOptimization, UtilityFunction\n",
    "import numpy as np\n",
    "import os\n",
    "\n",
    "import matplotlib.pyplot as plt\n",
    "from matplotlib import gridspec\n",
    "%matplotlib inline"
   ]
  },
  {
   "cell_type": "code",
   "execution_count": 2,
   "metadata": {},
   "outputs": [
    {
     "data": {
      "text/plain": [
       "[<matplotlib.lines.Line2D at 0x11d975c00>]"
      ]
     },
     "execution_count": 2,
     "metadata": {},
     "output_type": "execute_result"
    },
    {
     "data": {
      "image/png": "[encoded data removed]",
      "text/plain": [
       "<Figure size 640x480 with 1 Axes>"
      ]
     },
     "metadata": {},
     "output_type": "display_data"
    }
   ],
   "source": [
    "def target(x):\n",
    "    return -( np.exp(-(x - 2)**2) + np.exp(-(x - 6)**2/10) + 1/ (x**2 + 1) )\n",
    "\n",
    "x = np.linspace(-2, 10, 10000).reshape(-1, 1)\n",
    "y = target(x)\n",
    "\n",
    "plt.plot(x, y)"
   ]
  },
  {
   "cell_type": "code",
   "execution_count": 3,
   "metadata": {},
   "outputs": [
    {
     "name": "stdout",
     "output_type": "stream",
     "text": [
      "|   iter    |  target   |     x     |\n",
      "-------------------------------------\n",
      "Recovered 3 values from temporary file\n",
      "max: {'target': -1.0744956681300208, 'params': {'x': 2.693437394916275}}\n",
      "Results successfully saved to /Users/niccoloferesini/Desktop/MALIBOO\n",
      "=====================================\n"
     ]
    }
   ],
   "source": [
    "def posterior(optimizer, x_obs, y_obs, grid):\n",
    "    optimizer._gp.fit(x_obs, y_obs)\n",
    "    mu, sigma = optimizer._gp.predict(grid, return_std=True)\n",
    "    return mu, sigma\n",
    "\n",
    "def plot_gp(optimizer, x, y, show_minimized=False, style='transparent'):\n",
    "\n",
    "    if style == 'classic':\n",
    "        plt.style.use(style)\n",
    "    elif style == 'dark':\n",
    "        plt.style.use('dark_background')\n",
    "    elif style == 'transparent':\n",
    "        pass\n",
    "    else:\n",
    "        raise ValueError(\"Wrong style\")\n",
    "\n",
    "    # Swap sign of stuff\n",
    "    sign = -1 if show_minimized else 1\n",
    "    \n",
    "    # Set up complete plot\n",
    "    plt.rcParams.update({'font.size': 20})\n",
    "\n",
    "    fig = plt.figure(figsize=(16, 10))\n",
    "    steps = len(optimizer.space)\n",
    "    gs = gridspec.GridSpec(2, 1, height_ratios=[3, 1]) \n",
    "    axis = plt.subplot(gs[0])\n",
    "    acq = plt.subplot(gs[1])\n",
    "\n",
    "    ## MAIN PLOT\n",
    "    # Plot true objective\n",
    "    target_col = 'limegreen' if style == 'dark' else 'gray'\n",
    "    axis.plot(x, sign*y, linewidth=3.5, label='objective function',\n",
    "              color=target_col)\n",
    "    # Plot observations\n",
    "    x_obs = np.array([[res[\"x\"]] for res in optimizer.res])\n",
    "    y_obs = np.array([res[\"target\"] for res in optimizer.res])\n",
    "    axis.scatter(x_obs, sign*y_obs, marker='o', s=300,\n",
    "                 label='observations', color='red', zorder=10)   \n",
    "    # Plot mean function\n",
    "    mu, sigma = posterior(optimizer, x_obs, y_obs, x)\n",
    "    mu = sign * mu\n",
    "    axis.plot(x, mu, dashes=(12, 3.5), color='blue', lw=2.5, label='mean prediction')\n",
    "    # Plot credible interval\n",
    "    quant = 1.96\n",
    "    axis.fill(np.concatenate([x, x[::-1]]), \n",
    "              np.concatenate([mu - quant * sigma, (mu + quant * sigma)[::-1]]),\n",
    "        alpha=.6, fc='paleturquoise', ec='None', label='95% credible interval')\n",
    "    # Set parameters\n",
    "    xlim = (-2,10)\n",
    "    axis.set_xlim(xlim)\n",
    "    axis.set_xlabel('x')\n",
    "    axis.set_ylim(-1.61, 0.01)\n",
    "    axis.set_ylabel('objective function')\n",
    "    axis.legend(loc=2, bbox_to_anchor=(1.01, 1), borderaxespad=0.)\n",
    "\n",
    "    ## ACQUISITION PLOT\n",
    "    # utility_function = UtilityFunction(kind=\"ucb\", kappa=5, xi=0)\n",
    "    # utility = utility_function.utility(x, optimizer._gp, 0)\n",
    "    utility_function = UtilityFunction(kind=\"eb\", kappa=5, xi=0)\n",
    "    utility = utility_function.utility(x, optimizer._gp, 0)\n",
    "    \n",
    "    x_next = x[np.argmax(utility)]\n",
    "    print(x_next)\n",
    "    acq.plot(x, utility, label='acquisition function', lw=2, color='fuchsia')\n",
    "    acq.scatter(x_next, np.max(utility), marker='x', s=300, \n",
    "             label='next observation', ec='red', lw=4, zorder=10)\n",
    "    acq.set_xlim(xlim)\n",
    "    acq.set_ylim((0, 2.501))\n",
    "    acq.set_ylabel('utility')\n",
    "    acq.set_xlabel('x')\n",
    "    acq.legend(loc=2, bbox_to_anchor=(1.01, 1))\n",
    "\n",
    "    # Vertical lines in both\n",
    "    axis.vlines(x_next, sign*0, sign*1.6, lw=1.5, linestyle=(0, (10, 3.5)), color='silver')\n",
    "    acq.vlines(x_next,       0,        5, lw=1.5, linestyle=(0, (10, 3.5)), color='silver')\n",
    "\n",
    "    # Overlay vertical Gaussian distribution\n",
    "    ypos_idx = np.abs(x-x_next).argmin()\n",
    "    ypos = mu[ypos_idx]\n",
    "    var = 0.6 * sigma[ypos_idx]  # I'm cheating a little bit with the variance\n",
    "                                 # for representation purposes\n",
    "    bound = 0.5\n",
    "    supp = np.linspace(-bound, bound, 1000).reshape(-1, 1)\n",
    "    gaussian = np.exp((-supp ** 2.0) / (2 * var ** 2.0))\n",
    "    gaussian /= gaussian.max()\n",
    "    gaussian *= -0.5  # height\n",
    "    axis.plot(gaussian + x_next, supp + ypos, lw=1.5, color='silver')\n",
    "\n",
    "    # Save to file\n",
    "    for fmt in ('png', 'svg'):\n",
    "        filename = f'bo_{style}_{len(x_obs)}.{fmt}'\n",
    "        plt.savefig(os.path.join('resources', filename), bbox_inches='tight', dpi=300)\n",
    "\n",
    "# Initialize optimizer\n",
    "#optimizer = BayesianOptimization(target, {'x': (-2, 10)},\n",
    "#                                 random_state=272242)\n",
    "optimizer = BayesianOptimization(target, {'x': (0, 6)},\n",
    "                                 random_state=34255, barrier_func={\n",
    "'constraint1': lambda x: x - 2},debug = False)\n",
    "# First rounds of optimization\n",
    "optimizer.maximize(init_points=3, n_iter=2, acq='eb',acq_info={'static_lambda':True})\n",
    "# for style in ('classic', 'dark'):  # ('transparent', 'classic', 'dark')\n",
    "#     plot_gp(optimizer, x, y, show_minimized=True, style=style)\n",
    "\n",
    "\n",
    "# Initialize optimizer again\n",
    "#optimizer = BayesianOptimization(target, {'x': (-2, 10)},\n",
    "#                                 random_state=272242)\n",
    "# Other rounds of optimization\n",
    "#optimizer.maximize(init_points=3, n_iter=1, acq='eb',acq_info={'static_lambda':True})\n",
    "# for style in ('classic', 'dark'):  # ('transparent', 'classic', 'dark')\n",
    "#     plot_gp(optimizer, x, y, show_minimized=True, style=style)"
   ]
  }
 ],
 "metadata": {
  "kernelspec": {
   "display_name": "Python 3 (ipykernel)",
   "language": "python",
   "name": "python3"
  },
  "language_info": {
   "codemirror_mode": {
    "name": "ipython",
    "version": 3
   },
   "file_extension": ".py",
   "mimetype": "text/x-python",
   "name": "python",
   "nbconvert_exporter": "python",
   "pygments_lexer": "ipython3",
   "version": "3.10.0"
  }
 },
 "nbformat": 4,
 "nbformat_minor": 4
}
