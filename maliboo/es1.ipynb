{
 "cells": [
  {
   "cell_type": "code",
   "execution_count": 30,
   "metadata": {},
   "outputs": [],
   "source": [
    "import numpy as np\n",
    "import matplotlib.pyplot as plt"
   ]
  },
  {
   "cell_type": "markdown",
   "metadata": {},
   "source": [
    "1."
   ]
  },
  {
   "cell_type": "code",
   "execution_count": 31,
   "metadata": {},
   "outputs": [],
   "source": [
    "X = np.zeros((400,400))\n",
    "X[49:150,29:130] = 110\n",
    "X[49:150,229:330] = 150\n",
    "X[249:350,69:170] = 180\n",
    "X[249:350,269:370] = 220\n",
    "noise = 0.2 * np.random.randn(400,400)\n",
    "X_damaged = X + noise\n",
    "true_mask = X >0"
   ]
  },
  {
   "cell_type": "markdown",
   "metadata": {},
   "source": [
    "2."
   ]
  },
  {
   "cell_type": "markdown",
   "metadata": {},
   "source": [
    "threshold = 100"
   ]
  },
  {
   "cell_type": "code",
   "execution_count": 32,
   "metadata": {},
   "outputs": [
    {
     "name": "stdout",
     "output_type": "stream",
     "text": [
      "===== Iteration 1 - increment norm 79.749\n",
      "===== Iteration 2 - increment norm 0.823\n",
      "===== Iteration 3 - increment norm 0.512\n",
      "===== Iteration 4 - increment norm 0.319\n",
      "===== Iteration 5 - increment norm 0.198\n",
      "===== Iteration 6 - increment norm 0.124\n",
      "===== Iteration 7 - increment norm 0.077\n",
      "===== Iteration 8 - increment norm 0.048\n",
      "===== Iteration 9 - increment norm 0.030\n",
      "===== Iteration 10 - increment norm 0.019\n",
      "===== Iteration 11 - increment norm 0.012\n",
      "===== Iteration 12 - increment norm 0.007\n",
      "===== Iteration 13 - increment norm 0.004\n",
      "===== Iteration 14 - increment norm 0.003\n",
      "===== Iteration 15 - increment norm 0.002\n",
      "===== Iteration 16 - increment norm 0.001\n",
      "===== Iteration 17 - increment norm 0.001\n",
      "===== Iteration 18 - increment norm 0.000\n",
      "===== Iteration 19 - increment norm 0.000\n",
      "===== Iteration 20 - increment norm 0.000\n",
      "===== Iteration 21 - increment norm 0.000\n",
      "===== Iteration 22 - increment norm 0.000\n",
      "===== Iteration 23 - increment norm 0.000\n",
      "===== Iteration 24 - increment norm 0.000\n",
      "===== Iteration 25 - increment norm 0.000\n",
      "===== Iteration 26 - increment norm 0.000\n",
      "===== Iteration 27 - increment norm 0.000\n",
      "===== Iteration 28 - increment norm 0.000\n",
      "===== Iteration 29 - increment norm 0.000\n",
      "===== Iteration 30 - increment norm 0.000\n",
      "===== Iteration 31 - increment norm 0.000\n"
     ]
    }
   ],
   "source": [
    "n_max_iter = 50\n",
    "threshold = 100\n",
    "increment_tol = 1e-6\n",
    "RMSE_list = list()\n",
    "rho_list = list()\n",
    "\n",
    "A = X_damaged.copy()\n",
    "\n",
    "for i in range(n_max_iter):\n",
    "    A_old = A.copy()\n",
    "    U,s,VT = np.linalg.svd(A, full_matrices = False)\n",
    "\n",
    "    s[s < threshold] = 0\n",
    "    A = U @ np.diag(s) @ VT\n",
    "    A[true_mask] = X[true_mask]\n",
    "    increment = np.linalg.norm(A - A_old)\n",
    "    \n",
    "\n",
    "    print('===== Iteration %d - increment norm %1.3f' %(i+1, increment))\n",
    "\n",
    "\n",
    "\n",
    "    if increment < increment_tol:\n",
    "        break"
   ]
  },
  {
   "cell_type": "code",
   "execution_count": 33,
   "metadata": {},
   "outputs": [
    {
     "name": "stdout",
     "output_type": "stream",
     "text": [
      "reconstruction_error =  0.0001629425521922641\n",
      "rank = 4\n"
     ]
    }
   ],
   "source": [
    "reconstruction_error = np.linalg.norm(X-A)/np.linalg.norm(X)\n",
    "rank = np.linalg.matrix_rank(A)\n",
    "print('reconstruction_error = ', reconstruction_error)\n",
    "print('rank =' ,rank)"
   ]
  },
  {
   "cell_type": "code",
   "execution_count": 34,
   "metadata": {},
   "outputs": [
    {
     "data": {
      "image/png": "[encoded data removed]",
      "text/plain": [
       "<Figure size 640x480 with 2 Axes>"
      ]
     },
     "metadata": {},
     "output_type": "display_data"
    }
   ],
   "source": [
    "plt.subplot(1, 2, 1)  # 1 row, 2 columns, index 1\n",
    "plt.imshow(X, cmap='gray')\n",
    "plt.title('Original image')\n",
    "plt.axis('off')  # Turn off axis\n",
    "\n",
    "# Plot second image\n",
    "plt.subplot(1, 2, 2)  # 1 row, 2 columns, index 2\n",
    "plt.imshow(A, cmap='gray')\n",
    "plt.title('Reconstructed image')\n",
    "plt.axis('off')  # Turn off axis\n",
    "\n",
    "plt.show()"
   ]
  },
  {
   "cell_type": "markdown",
   "metadata": {},
   "source": [
    "threshold = 1"
   ]
  },
  {
   "cell_type": "code",
   "execution_count": 35,
   "metadata": {},
   "outputs": [
    {
     "name": "stdout",
     "output_type": "stream",
     "text": [
      "===== Iteration 1 - increment norm 40.446\n",
      "===== Iteration 2 - increment norm 3.822\n",
      "===== Iteration 3 - increment norm 1.716\n",
      "===== Iteration 4 - increment norm 1.153\n",
      "===== Iteration 5 - increment norm 0.631\n",
      "===== Iteration 6 - increment norm 0.424\n",
      "===== Iteration 7 - increment norm 0.314\n",
      "===== Iteration 8 - increment norm 0.245\n",
      "===== Iteration 9 - increment norm 0.198\n",
      "===== Iteration 10 - increment norm 0.164\n",
      "===== Iteration 11 - increment norm 0.139\n",
      "===== Iteration 12 - increment norm 0.120\n",
      "===== Iteration 13 - increment norm 0.765\n",
      "===== Iteration 14 - increment norm 0.311\n",
      "===== Iteration 15 - increment norm 0.181\n",
      "===== Iteration 16 - increment norm 0.127\n",
      "===== Iteration 17 - increment norm 0.099\n",
      "===== Iteration 18 - increment norm 0.082\n",
      "===== Iteration 19 - increment norm 0.070\n",
      "===== Iteration 20 - increment norm 0.062\n",
      "===== Iteration 21 - increment norm 0.055\n",
      "===== Iteration 22 - increment norm 0.050\n",
      "===== Iteration 23 - increment norm 0.045\n",
      "===== Iteration 24 - increment norm 0.041\n",
      "===== Iteration 25 - increment norm 0.038\n",
      "===== Iteration 26 - increment norm 0.035\n",
      "===== Iteration 27 - increment norm 0.033\n",
      "===== Iteration 28 - increment norm 0.031\n",
      "===== Iteration 29 - increment norm 0.029\n",
      "===== Iteration 30 - increment norm 0.027\n",
      "===== Iteration 31 - increment norm 0.026\n",
      "===== Iteration 32 - increment norm 0.024\n",
      "===== Iteration 33 - increment norm 0.023\n",
      "===== Iteration 34 - increment norm 0.022\n",
      "===== Iteration 35 - increment norm 0.021\n",
      "===== Iteration 36 - increment norm 0.020\n",
      "===== Iteration 37 - increment norm 0.019\n",
      "===== Iteration 38 - increment norm 0.018\n",
      "===== Iteration 39 - increment norm 0.017\n",
      "===== Iteration 40 - increment norm 0.016\n",
      "===== Iteration 41 - increment norm 0.016\n",
      "===== Iteration 42 - increment norm 0.015\n",
      "===== Iteration 43 - increment norm 0.014\n",
      "===== Iteration 44 - increment norm 0.014\n",
      "===== Iteration 45 - increment norm 0.013\n",
      "===== Iteration 46 - increment norm 0.013\n",
      "===== Iteration 47 - increment norm 0.012\n",
      "===== Iteration 48 - increment norm 0.012\n",
      "===== Iteration 49 - increment norm 0.012\n",
      "===== Iteration 50 - increment norm 0.011\n"
     ]
    }
   ],
   "source": [
    "n_max_iter = 50\n",
    "threshold = 1\n",
    "increment_tol = 1e-6\n",
    "RMSE_list = list()\n",
    "rho_list = list()\n",
    "\n",
    "A = X_damaged.copy()\n",
    "\n",
    "for i in range(n_max_iter):\n",
    "    A_old = A.copy()\n",
    "    U,s,VT = np.linalg.svd(A, full_matrices = False)\n",
    "\n",
    "    s[s < threshold] = 0\n",
    "    A = U @ np.diag(s) @ VT\n",
    "    A[true_mask] = X[true_mask]\n",
    "    increment = np.linalg.norm(A - A_old)\n",
    "    \n",
    "\n",
    "    print('===== Iteration %d - increment norm %1.3f' %(i+1, increment))\n",
    "\n",
    "\n",
    "\n",
    "    if increment < increment_tol:\n",
    "        break"
   ]
  },
  {
   "cell_type": "code",
   "execution_count": 36,
   "metadata": {},
   "outputs": [
    {
     "name": "stdout",
     "output_type": "stream",
     "text": [
      "reconstruction_error =  0.0019969790881075315\n",
      "rank = 400\n"
     ]
    }
   ],
   "source": [
    "reconstruction_error = np.linalg.norm(X-A)/np.linalg.norm(X)\n",
    "rank = np.linalg.matrix_rank(A)\n",
    "print('reconstruction_error = ', reconstruction_error)\n",
    "print('rank =' ,rank)"
   ]
  },
  {
   "cell_type": "code",
   "execution_count": 37,
   "metadata": {},
   "outputs": [
    {
     "data": {
      "image/png": "[encoded data removed]",
      "text/plain": [
       "<Figure size 640x480 with 2 Axes>"
      ]
     },
     "metadata": {},
     "output_type": "display_data"
    }
   ],
   "source": [
    "plt.subplot(1, 2, 1)  # 1 row, 2 columns, index 1\n",
    "plt.imshow(X, cmap='gray')\n",
    "plt.title('Original image')\n",
    "plt.axis('off')  # Turn off axis\n",
    "\n",
    "# Plot second image\n",
    "plt.subplot(1, 2, 2)  # 1 row, 2 columns, index 2\n",
    "plt.imshow(A, cmap='gray')\n",
    "plt.title('Reconstructed image')\n",
    "plt.axis('off')  # Turn off axis\n",
    "\n",
    "plt.show()"
   ]
  },
  {
   "cell_type": "markdown",
   "metadata": {},
   "source": [
    "threshold = 1000"
   ]
  },
  {
   "cell_type": "code",
   "execution_count": 38,
   "metadata": {},
   "outputs": [
    {
     "name": "stdout",
     "output_type": "stream",
     "text": [
      "===== Iteration 1 - increment norm 79.749\n",
      "===== Iteration 2 - increment norm 0.823\n",
      "===== Iteration 3 - increment norm 0.512\n",
      "===== Iteration 4 - increment norm 0.319\n",
      "===== Iteration 5 - increment norm 0.198\n",
      "===== Iteration 6 - increment norm 0.124\n",
      "===== Iteration 7 - increment norm 0.077\n",
      "===== Iteration 8 - increment norm 0.048\n",
      "===== Iteration 9 - increment norm 0.030\n",
      "===== Iteration 10 - increment norm 0.019\n",
      "===== Iteration 11 - increment norm 0.012\n",
      "===== Iteration 12 - increment norm 0.007\n",
      "===== Iteration 13 - increment norm 0.004\n",
      "===== Iteration 14 - increment norm 0.003\n",
      "===== Iteration 15 - increment norm 0.002\n",
      "===== Iteration 16 - increment norm 0.001\n",
      "===== Iteration 17 - increment norm 0.001\n",
      "===== Iteration 18 - increment norm 0.000\n",
      "===== Iteration 19 - increment norm 0.000\n",
      "===== Iteration 20 - increment norm 0.000\n",
      "===== Iteration 21 - increment norm 0.000\n",
      "===== Iteration 22 - increment norm 0.000\n",
      "===== Iteration 23 - increment norm 0.000\n",
      "===== Iteration 24 - increment norm 0.000\n",
      "===== Iteration 25 - increment norm 0.000\n",
      "===== Iteration 26 - increment norm 0.000\n",
      "===== Iteration 27 - increment norm 0.000\n",
      "===== Iteration 28 - increment norm 0.000\n",
      "===== Iteration 29 - increment norm 0.000\n",
      "===== Iteration 30 - increment norm 0.000\n",
      "===== Iteration 31 - increment norm 0.000\n"
     ]
    }
   ],
   "source": [
    "n_max_iter = 50\n",
    "threshold = 1000\n",
    "increment_tol = 1e-6\n",
    "RMSE_list = list()\n",
    "rho_list = list()\n",
    "\n",
    "A = X_damaged.copy()\n",
    "\n",
    "for i in range(n_max_iter):\n",
    "    A_old = A.copy()\n",
    "    U,s,VT = np.linalg.svd(A, full_matrices = False)\n",
    "\n",
    "    s[s < threshold] = 0\n",
    "    A = U @ np.diag(s) @ VT\n",
    "    A[true_mask] = X[true_mask]\n",
    "    increment = np.linalg.norm(A - A_old)\n",
    "    \n",
    "\n",
    "    print('===== Iteration %d - increment norm %1.3f' %(i+1, increment))\n",
    "\n",
    "\n",
    "\n",
    "    if increment < increment_tol:\n",
    "        break"
   ]
  },
  {
   "cell_type": "code",
   "execution_count": 39,
   "metadata": {},
   "outputs": [
    {
     "name": "stdout",
     "output_type": "stream",
     "text": [
      "reconstruction_error =  0.0001629425521922641\n",
      "rank = 4\n"
     ]
    }
   ],
   "source": [
    "reconstruction_error = np.linalg.norm(X-A)/np.linalg.norm(X)\n",
    "rank = np.linalg.matrix_rank(A)\n",
    "print('reconstruction_error = ', reconstruction_error)\n",
    "print('rank =' ,rank)"
   ]
  },
  {
   "cell_type": "code",
   "execution_count": 40,
   "metadata": {},
   "outputs": [
    {
     "data": {
      "image/png": "[encoded data removed]",
      "text/plain": [
       "<Figure size 640x480 with 2 Axes>"
      ]
     },
     "metadata": {},
     "output_type": "display_data"
    }
   ],
   "source": [
    "plt.subplot(1, 2, 1)  # 1 row, 2 columns, index 1\n",
    "plt.imshow(X, cmap='gray')\n",
    "plt.title('Original image')\n",
    "plt.axis('off')  # Turn off axis\n",
    "\n",
    "# Plot second image\n",
    "plt.subplot(1, 2, 2)  # 1 row, 2 columns, index 2\n",
    "plt.imshow(A, cmap='gray')\n",
    "plt.title('Reconstructed image')\n",
    "plt.axis('off')  # Turn off axis\n",
    "\n",
    "plt.show()"
   ]
  },
  {
   "cell_type": "markdown",
   "metadata": {},
   "source": [
    "3."
   ]
  },
  {
   "cell_type": "markdown",
   "metadata": {},
   "source": [
    "By trying different values of k it is not possible to find the same value of k since the two methods are different.\n",
    "Even by setting k = 4 so the rank of the reconstructed matrix is 4 the errors are different.\n",
    "Actually the error made by the SVT algortihm is less than the one made using exact SVD.\n",
    "This might seem counterintuitive because of the Eckart-Young theorem which states that the approximation made by the SVD is the best rank 4 approximation in Froboenius norm but actually it's not because both methods are working on X with noise not X exact.\n",
    "So the theorem only states that the approximation made by the SVD is the best for approximationg X with noise, non X exact."
   ]
  },
  {
   "cell_type": "markdown",
   "metadata": {},
   "source": [
    "The value of k that minimizes the reconstruction error is k = 2."
   ]
  },
  {
   "cell_type": "code",
   "execution_count": 45,
   "metadata": {},
   "outputs": [
    {
     "name": "stdout",
     "output_type": "stream",
     "text": [
      "reconstruction_error =  0.00022639267175745984\n",
      "rank = 2\n"
     ]
    }
   ],
   "source": [
    "k = 2\n",
    "U, s, VT = np.linalg.svd(X_damaged, full_matrices = True)\n",
    "X_reconstructed = U[:,:k] @ np.diag(s[:k]) @ VT[:k,:]\n",
    "reconstruction_error = np.linalg.norm(X-X_reconstructed)/np.linalg.norm(X)\n",
    "rank = np.linalg.matrix_rank(X_reconstructed)\n",
    "print('reconstruction_error = ', reconstruction_error)\n",
    "print('rank =' ,rank)"
   ]
  },
  {
   "cell_type": "markdown",
   "metadata": {},
   "source": [
    "4."
   ]
  },
  {
   "cell_type": "code",
   "execution_count": 46,
   "metadata": {},
   "outputs": [],
   "source": [
    "def randomized_SVD(A, k):\n",
    "  n, m = A.shape[0], A.shape[1]\n",
    "  P = np.random.randn(m, k)\n",
    "  Z = A @ P\n",
    "  Q, R = np.linalg.qr(Z)\n",
    "  Y = Q.T @ A\n",
    "  U_Y, s, VT = np.linalg.svd(Y, full_matrices = False)\n",
    "  U = Q @ U_Y\n",
    "  return U, s, VT"
   ]
  },
  {
   "cell_type": "code",
   "execution_count": 48,
   "metadata": {},
   "outputs": [
    {
     "name": "stdout",
     "output_type": "stream",
     "text": [
      "reconstruction_error =  0.0009646493270112628\n",
      "rank = 25\n"
     ]
    }
   ],
   "source": [
    "k = 25\n",
    "U, s, VT =  randomized_SVD(X_damaged, k)\n",
    "X_reconstructed = U[:,:k] @ np.diag(s[:k]) @ VT[:k,:]\n",
    "reconstruction_error = np.linalg.norm(X-X_reconstructed)/np.linalg.norm(X)\n",
    "rank = np.linalg.matrix_rank(X_reconstructed)\n",
    "print('reconstruction_error = ', reconstruction_error)\n",
    "print('rank =' ,rank)"
   ]
  },
  {
   "cell_type": "markdown",
   "metadata": {},
   "source": [
    "In this case again it's not possible to exactly reconstruct as the SVT algorithm also because this algorithm is random"
   ]
  }
 ],
 "metadata": {
  "kernelspec": {
   "display_name": "Python 3",
   "language": "python",
   "name": "python3"
  },
  "language_info": {
   "codemirror_mode": {
    "name": "ipython",
    "version": 3
   },
   "file_extension": ".py",
   "mimetype": "text/x-python",
   "name": "python",
   "nbconvert_exporter": "python",
   "pygments_lexer": "ipython3",
   "version": "3.11.3"
  }
 },
 "nbformat": 4,
 "nbformat_minor": 2
}
